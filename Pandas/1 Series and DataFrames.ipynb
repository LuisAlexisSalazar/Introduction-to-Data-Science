{
 "cells": [
  {
   "cell_type": "code",
   "execution_count": 1,
   "id": "39f87daf",
   "metadata": {},
   "outputs": [],
   "source": [
    "#  Metodos de String\n",
    "# https://www.codecademy.com/learn/learn-python-3/modules/learn-python3-strings/cheatsheet\n",
    "import pandas as pd"
   ]
  },
  {
   "cell_type": "markdown",
   "id": "c96131fb",
   "metadata": {},
   "source": [
    "<h2>Series</h2>"
   ]
  },
  {
   "cell_type": "code",
   "execution_count": 5,
   "id": "6c77be30",
   "metadata": {},
   "outputs": [
    {
     "data": {
      "text/plain": [
       "0     1\n",
       "1     1\n",
       "2     2\n",
       "3     3\n",
       "4     5\n",
       "5     8\n",
       "6    13\n",
       "dtype: int64"
      ]
     },
     "execution_count": 5,
     "metadata": {},
     "output_type": "execute_result"
    }
   ],
   "source": [
    "# Series : Un array de una dimension entonces como una list en python\n",
    "l = [1, 1, 2, 3, 5, 8, 13]\n",
    "pd.Series(l)"
   ]
  },
  {
   "cell_type": "code",
   "execution_count": 7,
   "id": "1d1ce4f7",
   "metadata": {},
   "outputs": [
    {
     "data": {
      "text/plain": [
       "one      1\n",
       "two      2\n",
       "three    3\n",
       "four     4\n",
       "five     5\n",
       "six      6\n",
       "dtype: int64"
      ]
     },
     "execution_count": 7,
     "metadata": {},
     "output_type": "execute_result"
    }
   ],
   "source": [
    "# Series creados a partir de un diccionario\n",
    "l = { 'one' : 1, \"two\" : 2, 'three' : 3, 'four' : 4, 'five' : 5, 'six' : 6}\n",
    "pd.Series(l)"
   ]
  },
  {
   "cell_type": "markdown",
   "id": "0c548b8c",
   "metadata": {},
   "source": [
    "<h2>DataFrame</h2>"
   ]
  },
  {
   "cell_type": "markdown",
   "id": "acbd089c",
   "metadata": {},
   "source": [
    "\n",
    "**DataFrame = Tabla de 2 dimensiones, hecha por una collección de Series**\n",
    "<img src=\"https://lh6.googleusercontent.com/oVM0xzSQBRMeyvLbbeiIANOJPwCIc_qhoPpfR1dYe8O990yfMCoKZQjDv5WuxGZMm-lDJOOpNlee35Ur0--nuX1wpG6lKVEbAt-QO54IqI8HqOC_ZujooY5H3m_DwcJZG2wtCrPabsg=s0\" >"
   ]
  },
  {
   "cell_type": "markdown",
   "id": "2b382ecb",
   "metadata": {},
   "source": [
    "**Ejemplos de la creación de un DataFrame**"
   ]
  },
  {
   "cell_type": "code",
   "execution_count": 10,
   "id": "4d3fdad6",
   "metadata": {},
   "outputs": [
    {
     "data": {
      "text/html": [
       "<div>\n",
       "<style scoped>\n",
       "    .dataframe tbody tr th:only-of-type {\n",
       "        vertical-align: middle;\n",
       "    }\n",
       "\n",
       "    .dataframe tbody tr th {\n",
       "        vertical-align: top;\n",
       "    }\n",
       "\n",
       "    .dataframe thead th {\n",
       "        text-align: right;\n",
       "    }\n",
       "</style>\n",
       "<table border=\"1\" class=\"dataframe\">\n",
       "  <thead>\n",
       "    <tr style=\"text-align: right;\">\n",
       "      <th></th>\n",
       "      <th>0</th>\n",
       "      <th>1</th>\n",
       "      <th>2</th>\n",
       "    </tr>\n",
       "  </thead>\n",
       "  <tbody>\n",
       "    <tr>\n",
       "      <th>0</th>\n",
       "      <td>1000</td>\n",
       "      <td>Steve</td>\n",
       "      <td>86.29</td>\n",
       "    </tr>\n",
       "    <tr>\n",
       "      <th>1</th>\n",
       "      <td>1001</td>\n",
       "      <td>Mathew</td>\n",
       "      <td>91.63</td>\n",
       "    </tr>\n",
       "    <tr>\n",
       "      <th>2</th>\n",
       "      <td>1002</td>\n",
       "      <td>Jose</td>\n",
       "      <td>72.90</td>\n",
       "    </tr>\n",
       "    <tr>\n",
       "      <th>3</th>\n",
       "      <td>1003</td>\n",
       "      <td>Patty</td>\n",
       "      <td>69.23</td>\n",
       "    </tr>\n",
       "    <tr>\n",
       "      <th>4</th>\n",
       "      <td>1004</td>\n",
       "      <td>Vin</td>\n",
       "      <td>88.30</td>\n",
       "    </tr>\n",
       "  </tbody>\n",
       "</table>\n",
       "</div>"
      ],
      "text/plain": [
       "      0       1      2\n",
       "0  1000   Steve  86.29\n",
       "1  1001  Mathew  91.63\n",
       "2  1002    Jose  72.90\n",
       "3  1003   Patty  69.23\n",
       "4  1004     Vin  88.30"
      ]
     },
     "execution_count": 10,
     "metadata": {},
     "output_type": "execute_result"
    }
   ],
   "source": [
    "data = [[1000, 'Steve', 86.29],\n",
    " [1001, 'Mathew', 91.63],\n",
    " [1002, 'Jose', 72.90],\n",
    " [1003, 'Patty', 69.23],\n",
    " [1004, 'Vin', 88.30]]\n",
    "\n",
    "pd.DataFrame(data)"
   ]
  },
  {
   "cell_type": "markdown",
   "id": "adbad8f9",
   "metadata": {},
   "source": [
    "**Especificar Filas en un DataFrame**"
   ]
  },
  {
   "cell_type": "code",
   "execution_count": 12,
   "id": "84e5e43e",
   "metadata": {},
   "outputs": [
    {
     "data": {
      "text/html": [
       "<div>\n",
       "<style scoped>\n",
       "    .dataframe tbody tr th:only-of-type {\n",
       "        vertical-align: middle;\n",
       "    }\n",
       "\n",
       "    .dataframe tbody tr th {\n",
       "        vertical-align: top;\n",
       "    }\n",
       "\n",
       "    .dataframe thead th {\n",
       "        text-align: right;\n",
       "    }\n",
       "</style>\n",
       "<table border=\"1\" class=\"dataframe\">\n",
       "  <thead>\n",
       "    <tr style=\"text-align: right;\">\n",
       "      <th></th>\n",
       "      <th>Regd. No</th>\n",
       "      <th>Name</th>\n",
       "      <th>Marks%</th>\n",
       "    </tr>\n",
       "  </thead>\n",
       "  <tbody>\n",
       "    <tr>\n",
       "      <th>1</th>\n",
       "      <td>1000</td>\n",
       "      <td>Steve</td>\n",
       "      <td>86.29</td>\n",
       "    </tr>\n",
       "    <tr>\n",
       "      <th>2</th>\n",
       "      <td>1001</td>\n",
       "      <td>Mathew</td>\n",
       "      <td>91.63</td>\n",
       "    </tr>\n",
       "    <tr>\n",
       "      <th>3</th>\n",
       "      <td>1002</td>\n",
       "      <td>Jose</td>\n",
       "      <td>72.90</td>\n",
       "    </tr>\n",
       "    <tr>\n",
       "      <th>4</th>\n",
       "      <td>1003</td>\n",
       "      <td>Patty</td>\n",
       "      <td>69.23</td>\n",
       "    </tr>\n",
       "    <tr>\n",
       "      <th>5</th>\n",
       "      <td>1004</td>\n",
       "      <td>Vin</td>\n",
       "      <td>88.30</td>\n",
       "    </tr>\n",
       "  </tbody>\n",
       "</table>\n",
       "</div>"
      ],
      "text/plain": [
       "   Regd. No    Name  Marks%\n",
       "1      1000   Steve   86.29\n",
       "2      1001  Mathew   91.63\n",
       "3      1002    Jose   72.90\n",
       "4      1003   Patty   69.23\n",
       "5      1004     Vin   88.30"
      ]
     },
     "execution_count": 12,
     "metadata": {},
     "output_type": "execute_result"
    }
   ],
   "source": [
    "pd.DataFrame(data,columns=['Regd. No','Name', 'Marks%'],index = [1,2,3,4,5])"
   ]
  },
  {
   "cell_type": "markdown",
   "id": "1569a2c1",
   "metadata": {},
   "source": [
    "**Crear un DataFrame a partir de Diccionario**"
   ]
  },
  {
   "cell_type": "code",
   "execution_count": 13,
   "id": "d5e4447b",
   "metadata": {},
   "outputs": [
    {
     "data": {
      "text/html": [
       "<div>\n",
       "<style scoped>\n",
       "    .dataframe tbody tr th:only-of-type {\n",
       "        vertical-align: middle;\n",
       "    }\n",
       "\n",
       "    .dataframe tbody tr th {\n",
       "        vertical-align: top;\n",
       "    }\n",
       "\n",
       "    .dataframe thead th {\n",
       "        text-align: right;\n",
       "    }\n",
       "</style>\n",
       "<table border=\"1\" class=\"dataframe\">\n",
       "  <thead>\n",
       "    <tr style=\"text-align: right;\">\n",
       "      <th></th>\n",
       "      <th>Regd. No</th>\n",
       "      <th>Names</th>\n",
       "      <th>Marks%</th>\n",
       "    </tr>\n",
       "  </thead>\n",
       "  <tbody>\n",
       "    <tr>\n",
       "      <th>0</th>\n",
       "      <td>1000</td>\n",
       "      <td>Steve</td>\n",
       "      <td>86.29</td>\n",
       "    </tr>\n",
       "    <tr>\n",
       "      <th>1</th>\n",
       "      <td>1001</td>\n",
       "      <td>Mathew</td>\n",
       "      <td>91.63</td>\n",
       "    </tr>\n",
       "    <tr>\n",
       "      <th>2</th>\n",
       "      <td>1002</td>\n",
       "      <td>Jose</td>\n",
       "      <td>72.90</td>\n",
       "    </tr>\n",
       "    <tr>\n",
       "      <th>3</th>\n",
       "      <td>1003</td>\n",
       "      <td>Patty</td>\n",
       "      <td>69.23</td>\n",
       "    </tr>\n",
       "    <tr>\n",
       "      <th>4</th>\n",
       "      <td>1004</td>\n",
       "      <td>vin</td>\n",
       "      <td>88.30</td>\n",
       "    </tr>\n",
       "  </tbody>\n",
       "</table>\n",
       "</div>"
      ],
      "text/plain": [
       "   Regd. No   Names  Marks%\n",
       "0      1000   Steve   86.29\n",
       "1      1001  Mathew   91.63\n",
       "2      1002    Jose   72.90\n",
       "3      1003   Patty   69.23\n",
       "4      1004     vin   88.30"
      ]
     },
     "execution_count": 13,
     "metadata": {},
     "output_type": "execute_result"
    }
   ],
   "source": [
    "data = { \"Regd. No\" : [1000, 1001, 1002, 1003, 1004] ,\n",
    "         \"Names\": ['Steve', 'Mathew', 'Jose', 'Patty', 'vin'],\n",
    "         'Marks%' : [86.29, 91.63, 72.90, 69.23, 88.30]}\n",
    "pd.DataFrame(data)\n",
    "# Hay 3 series en esta tabla"
   ]
  },
  {
   "cell_type": "markdown",
   "id": "55d5156f",
   "metadata": {},
   "source": [
    "**NOTA: DataFrame es una collección de una serie, columna es una serie por lo tanto una serie de columnas es un DataFrame **"
   ]
  }
 ],
 "metadata": {
  "kernelspec": {
   "display_name": "Python 3 (ipykernel)",
   "language": "python",
   "name": "python3"
  },
  "language_info": {
   "codemirror_mode": {
    "name": "ipython",
    "version": 3
   },
   "file_extension": ".py",
   "mimetype": "text/x-python",
   "name": "python",
   "nbconvert_exporter": "python",
   "pygments_lexer": "ipython3",
   "version": "3.8.1"
  }
 },
 "nbformat": 4,
 "nbformat_minor": 5
}
