{
 "cells": [
  {
   "cell_type": "markdown",
   "metadata": {
    "id": "OZpduK2BJvzZ"
   },
   "source": [
    "### **Overview**\n",
    "\n",
    "Dear Learner, \n",
    "\n",
    "Congratulations, you have studied NumPy all the way through the end of this bootcamp!!! This is the final graded hands-on exercise where you will be accomplishing the below mentioned task.\n",
    "\n",
    "**Author:** Avantika Podar"
   ]
  },
  {
   "cell_type": "code",
   "execution_count": 3,
   "metadata": {},
   "outputs": [],
   "source": [
    "import numpy as np"
   ]
  },
  {
   "cell_type": "markdown",
   "metadata": {
    "id": "UC6lZAsJLiFg"
   },
   "source": [
    "###Task 1:   \n",
    "\n",
    "Construct a random 3x28x28 NumPy array called *original* to represent an image and then convert this into into a 1x(3x28x28) array called *flat*. This converts it into a single row of pixels. Next, convert this to a 1D array (flatten the array using flat.flatten()). Print shape of all arrays. You may use the random function to generate the array.\n",
    "\n"
   ]
  },
  {
   "cell_type": "code",
   "execution_count": 4,
   "metadata": {
    "id": "Qno3FG8M9RXZ"
   },
   "outputs": [
    {
     "data": {
      "text/plain": [
       "array([34, 83, 36, ..., 86, 24, 27])"
      ]
     },
     "execution_count": 4,
     "metadata": {},
     "output_type": "execute_result"
    }
   ],
   "source": [
    "# Generate random array\n",
    "original = np.random.randint(100, size=(3,28,28))\n",
    "\n",
    "# change dimension to 1x(3x28x28)\n",
    "flat = original.reshape(1,3,28,28)\n",
    "\n",
    "# 1D Array\n",
    "flat = flat.flatten()\n",
    "flat"
   ]
  },
  {
   "cell_type": "code",
   "execution_count": 5,
   "metadata": {},
   "outputs": [
    {
     "name": "stdout",
     "output_type": "stream",
     "text": [
      "(2352,)\n"
     ]
    }
   ],
   "source": [
    "print(flat.shape)"
   ]
  },
  {
   "cell_type": "markdown",
   "metadata": {
    "id": "eIcDegymM1tR"
   },
   "source": [
    "### Task 2: Print out the following: \n",
    "  * dimension of the arrays.\n",
    "  * memory address of the arrays (pointer).\n",
    "  * shape of the arrays.\n",
    "  * data types of the arrays. \n",
    "\n",
    "\n"
   ]
  },
  {
   "cell_type": "code",
   "execution_count": 17,
   "metadata": {
    "id": "H9MUhbsn9Ych"
   },
   "outputs": [
    {
     "data": {
      "text/plain": [
       "array([[7, 7, 5],\n",
       "       [3, 1, 2]])"
      ]
     },
     "execution_count": 17,
     "metadata": {},
     "output_type": "execute_result"
    }
   ],
   "source": [
    "# Generate Array\n",
    "arr = np.random.randint(10,size=(2,3))\n",
    "arr"
   ]
  },
  {
   "cell_type": "code",
   "execution_count": 18,
   "metadata": {},
   "outputs": [
    {
     "data": {
      "text/plain": [
       "2"
      ]
     },
     "execution_count": 18,
     "metadata": {},
     "output_type": "execute_result"
    }
   ],
   "source": [
    "# dimension of the arrays.\n",
    "arr.ndim"
   ]
  },
  {
   "cell_type": "code",
   "execution_count": 24,
   "metadata": {},
   "outputs": [
    {
     "data": {
      "text/plain": [
       "<ctypes.wintypes.LP_c_short at 0x15c4ef3a2c0>"
      ]
     },
     "execution_count": 24,
     "metadata": {},
     "output_type": "execute_result"
    }
   ],
   "source": [
    "# memory address of the arrays (pointer).\n",
    "import ctypes\n",
    "arr.ctypes.data_as(ctypes.POINTER(ctypes.c_int16))"
   ]
  },
  {
   "cell_type": "code",
   "execution_count": 25,
   "metadata": {},
   "outputs": [
    {
     "data": {
      "text/plain": [
       "(2, 3)"
      ]
     },
     "execution_count": 25,
     "metadata": {},
     "output_type": "execute_result"
    }
   ],
   "source": [
    "# shape of the arrays.\n",
    "arr.shape"
   ]
  },
  {
   "cell_type": "code",
   "execution_count": 26,
   "metadata": {},
   "outputs": [
    {
     "data": {
      "text/plain": [
       "dtype('int32')"
      ]
     },
     "execution_count": 26,
     "metadata": {},
     "output_type": "execute_result"
    }
   ],
   "source": [
    "# data types of the arrays.\n",
    "arr.dtype"
   ]
  },
  {
   "cell_type": "markdown",
   "metadata": {
    "id": "mZYl9CjBN9bg"
   },
   "source": [
    "### Task 3: \n",
    "Construct a new array which is a negative of the *original* array, i.e, all elements are negative of those in the *original* array. Print the new array. Add the original and new arrays. Print the result. "
   ]
  },
  {
   "cell_type": "code",
   "execution_count": 8,
   "metadata": {
    "id": "0VCQBW-F933Z"
   },
   "outputs": [
    {
     "name": "stdout",
     "output_type": "stream",
     "text": [
      "Original: [-10   1   5  -8  -2   3  -8  -7   9   2]\n",
      "New Array: [10 -1 -5  8  2 -3  8  7 -9 -2]\n"
     ]
    }
   ],
   "source": [
    "# Create Original and newArray\n",
    "original = np.random.randint(low=-10,high=10, size=(10))\n",
    "newArray = original * -1\n",
    "print(\"Original:\",original)\n",
    "print(\"New Array:\",newArray)"
   ]
  },
  {
   "cell_type": "code",
   "execution_count": 9,
   "metadata": {},
   "outputs": [
    {
     "name": "stdout",
     "output_type": "stream",
     "text": [
      "[0 0 0 0 0 0 0 0 0 0]\n"
     ]
    }
   ],
   "source": [
    "print(original+newArray)"
   ]
  },
  {
   "cell_type": "markdown",
   "metadata": {
    "id": "4UKa56EzQXaU"
   },
   "source": [
    "###Task 4\n",
    "\n",
    "A 3x28x28 basically means 28x28 matrices repeated three times. How would you access the first 10 elements of the 2nd row of the second 28x28 matrix? Consider the original array for this. Print the elements."
   ]
  },
  {
   "cell_type": "code",
   "execution_count": 6,
   "metadata": {
    "id": "bc0stgsY93Tn"
   },
   "outputs": [
    {
     "name": "stdout",
     "output_type": "stream",
     "text": [
      "[20 16 44 90 92 95 37 95 61 60]\n"
     ]
    }
   ],
   "source": [
    "# Create matrix 3x28x28\n",
    "arr = np.random.randint(100, size=(3,28,28))\n",
    "print(arr[1,1,:10])"
   ]
  },
  {
   "cell_type": "markdown",
   "metadata": {
    "id": "8USrPA7NdRXQ"
   },
   "source": [
    "### Task 5 \n",
    "A 3x28x28 image means 3 channels of Red, Green, or Blue (Popularly known as RGB image). Each color channel has a height and width, which is 28X28 in this case. The entire picture can represented through this method. Print the shape of the Blue pixel matrix and its first 3 rows."
   ]
  },
  {
   "cell_type": "code",
   "execution_count": 10,
   "metadata": {
    "id": "bQCRmVPz92r7"
   },
   "outputs": [
    {
     "name": "stdout",
     "output_type": "stream",
     "text": [
      "Shape of Blue Pixel: (28, 28)\n"
     ]
    }
   ],
   "source": [
    "# Create matrix 3x28x28\n",
    "imageArr = np.random.randint(100, size=(3,28,28))\n",
    "#  Print the shape of the Blue pixel matri\n",
    "print(\"Shape of Blue Pixel:\",imageArr[2].shape)"
   ]
  },
  {
   "cell_type": "code",
   "execution_count": 11,
   "metadata": {},
   "outputs": [
    {
     "name": "stdout",
     "output_type": "stream",
     "text": [
      "3 Row: [[75 44 13 78 40 57 28 22 45 18 75 81 17 91 20 46 23  9 95 75 28 56 78  2\n",
      "  74  1 32  1]\n",
      " [69 43 29 81 87 14 95 81 16 89 50 33  6 19 75 75  1 88 76  9 43 66 28 98\n",
      "  36 17 96 92]\n",
      " [53 17  8 49 15 79 32  1  1 51  1 43 45 32 85 23 49 79 21 61 65 43 55 96\n",
      "  61 12 88 45]]\n"
     ]
    }
   ],
   "source": [
    "# Print first 3 rows\n",
    "print(\"3 Row:\",imageArr[2,:3])"
   ]
  },
  {
   "cell_type": "markdown",
   "metadata": {
    "id": "Nb9AZUweD-3m"
   },
   "source": [
    "### Task 6 \n",
    "Create a 1 dimensional numpy array of the first 50 even numbers. Convert this to a 10x5 numpy array and print its transpose. "
   ]
  },
  {
   "cell_type": "code",
   "execution_count": 12,
   "metadata": {
    "id": "JJj-N-Kt92Nz"
   },
   "outputs": [
    {
     "data": {
      "text/plain": [
       "array([ 0,  2,  4,  6,  8, 10, 12, 14, 16, 18, 20, 22, 24, 26, 28, 30, 32,\n",
       "       34, 36, 38, 40, 42, 44, 46, 48, 50, 52, 54, 56, 58, 60, 62, 64, 66,\n",
       "       68, 70, 72, 74, 76, 78, 80, 82, 84, 86, 88, 90, 92, 94, 96, 98])"
      ]
     },
     "execution_count": 12,
     "metadata": {},
     "output_type": "execute_result"
    }
   ],
   "source": [
    "arr = np.arange(start=0,stop=100,step=2)\n",
    "arr"
   ]
  },
  {
   "cell_type": "code",
   "execution_count": 14,
   "metadata": {},
   "outputs": [
    {
     "data": {
      "text/plain": [
       "array([[ 0,  2,  4,  6,  8],\n",
       "       [10, 12, 14, 16, 18],\n",
       "       [20, 22, 24, 26, 28],\n",
       "       [30, 32, 34, 36, 38],\n",
       "       [40, 42, 44, 46, 48],\n",
       "       [50, 52, 54, 56, 58],\n",
       "       [60, 62, 64, 66, 68],\n",
       "       [70, 72, 74, 76, 78],\n",
       "       [80, 82, 84, 86, 88],\n",
       "       [90, 92, 94, 96, 98]])"
      ]
     },
     "execution_count": 14,
     "metadata": {},
     "output_type": "execute_result"
    }
   ],
   "source": [
    "# Convert this to a 10x5 numpy array\n",
    "arr = arr.reshape( (10,5))\n",
    "arr"
   ]
  },
  {
   "cell_type": "code",
   "execution_count": 63,
   "metadata": {},
   "outputs": [
    {
     "data": {
      "text/plain": [
       "array([[ 0, 10, 20, 30, 40, 50, 60, 70, 80, 90],\n",
       "       [ 2, 12, 22, 32, 42, 52, 62, 72, 82, 92],\n",
       "       [ 4, 14, 24, 34, 44, 54, 64, 74, 84, 94],\n",
       "       [ 6, 16, 26, 36, 46, 56, 66, 76, 86, 96],\n",
       "       [ 8, 18, 28, 38, 48, 58, 68, 78, 88, 98]])"
      ]
     },
     "execution_count": 63,
     "metadata": {},
     "output_type": "execute_result"
    }
   ],
   "source": [
    "# print its transpose.\n",
    "print(\"Transpose: \",np.transpose(arr))"
   ]
  },
  {
   "cell_type": "markdown",
   "metadata": {
    "id": "ITBNUk5dHu0f"
   },
   "source": [
    "### Task 7 \n",
    "Consider the 10x5 array created in Task 6. Find the mean of each row and column. You may use in built functions or write your own code."
   ]
  },
  {
   "cell_type": "code",
   "execution_count": 64,
   "metadata": {
    "id": "qYrg2g-jVduw"
   },
   "outputs": [
    {
     "data": {
      "text/plain": [
       "array([[ 0,  2,  4,  6,  8],\n",
       "       [10, 12, 14, 16, 18],\n",
       "       [20, 22, 24, 26, 28],\n",
       "       [30, 32, 34, 36, 38],\n",
       "       [40, 42, 44, 46, 48],\n",
       "       [50, 52, 54, 56, 58],\n",
       "       [60, 62, 64, 66, 68],\n",
       "       [70, 72, 74, 76, 78],\n",
       "       [80, 82, 84, 86, 88],\n",
       "       [90, 92, 94, 96, 98]])"
      ]
     },
     "execution_count": 64,
     "metadata": {},
     "output_type": "execute_result"
    }
   ],
   "source": [
    "arr"
   ]
  },
  {
   "cell_type": "code",
   "execution_count": 72,
   "metadata": {
    "id": "9bFi6vVf91oY"
   },
   "outputs": [
    {
     "name": "stdout",
     "output_type": "stream",
     "text": [
      "Means each Row: [ 4. 14. 24. 34. 44. 54. 64. 74. 84. 94.]\n",
      "Means each Column: [45. 47. 49. 51. 53.]\n"
     ]
    }
   ],
   "source": [
    "# ----With built functions---\n",
    "# Means of Rows\n",
    "print(\"Means each Row:\",np.mean(arr,axis=1))\n",
    "\n",
    "# Means of Colums\n",
    "print(\"Means each Column:\",np.mean(arr,axis=0))"
   ]
  },
  {
   "cell_type": "code",
   "execution_count": 78,
   "metadata": {},
   "outputs": [
    {
     "name": "stdout",
     "output_type": "stream",
     "text": [
      "Means each Row: [4.0, 14.0, 24.0, 34.0, 44.0, 54.0, 64.0, 74.0, 84.0, 94.0]\n",
      "Means each Colum: [45.0, 47.0, 49.0, 51.0, 53.0]\n"
     ]
    }
   ],
   "source": [
    "# Own Implementation\n",
    "def mean(row):\n",
    "    return np.sum(row)/row.size\n",
    "\n",
    "# MEANS OF ROWS\n",
    "meansRow = []\n",
    "for row in arr:\n",
    "    meansRow.append(mean(row))\n",
    "\n",
    "print(\"Means each Row:\", meansRow)\n",
    "\n",
    "# MEANS OF ROWS\n",
    "meansColums = []\n",
    "for colum in np.transpose(arr):\n",
    "    meansColums.append(mean(colum))\n",
    "    \n",
    "print(\"Means each Colum:\", meansColums) "
   ]
  },
  {
   "cell_type": "markdown",
   "metadata": {
    "id": "WEHBWo7AGXKK"
   },
   "source": [
    "### Task 8\n",
    "Can we create a 3x3 array of the first 50 even numbers? Why or why not? What are other values of m and n for which mxn dimension is allowed for 50 elements?"
   ]
  },
  {
   "cell_type": "markdown",
   "metadata": {
    "id": "nGirNkBS90-J"
   },
   "source": [
    "Response: No, beacause the shape 3x3 don't give the result to store 50 numbers, The other values ares all forms in that can descompose the number 50. Below write the all possible values of m and n for 50 numbers. "
   ]
  },
  {
   "cell_type": "code",
   "execution_count": 83,
   "metadata": {},
   "outputs": [
    {
     "ename": "ValueError",
     "evalue": "cannot reshape array of size 50 into shape (3,3)",
     "output_type": "error",
     "traceback": [
      "\u001b[1;31m---------------------------------------------------------------------------\u001b[0m",
      "\u001b[1;31mValueError\u001b[0m                                Traceback (most recent call last)",
      "\u001b[1;32m~\\AppData\\Local\\Temp/ipykernel_14568/4204175377.py\u001b[0m in \u001b[0;36m<module>\u001b[1;34m\u001b[0m\n\u001b[0;32m      1\u001b[0m \u001b[0marr\u001b[0m \u001b[1;33m=\u001b[0m \u001b[0mnp\u001b[0m\u001b[1;33m.\u001b[0m\u001b[0marange\u001b[0m\u001b[1;33m(\u001b[0m\u001b[0mstart\u001b[0m\u001b[1;33m=\u001b[0m\u001b[1;36m0\u001b[0m\u001b[1;33m,\u001b[0m\u001b[0mstop\u001b[0m\u001b[1;33m=\u001b[0m\u001b[1;36m100\u001b[0m\u001b[1;33m,\u001b[0m\u001b[0mstep\u001b[0m\u001b[1;33m=\u001b[0m\u001b[1;36m2\u001b[0m\u001b[1;33m)\u001b[0m\u001b[1;33m\u001b[0m\u001b[1;33m\u001b[0m\u001b[0m\n\u001b[1;32m----> 2\u001b[1;33m \u001b[0marr\u001b[0m\u001b[1;33m.\u001b[0m\u001b[0mreshape\u001b[0m\u001b[1;33m(\u001b[0m\u001b[1;33m(\u001b[0m\u001b[1;36m3\u001b[0m\u001b[1;33m,\u001b[0m\u001b[1;36m3\u001b[0m\u001b[1;33m)\u001b[0m\u001b[1;33m)\u001b[0m\u001b[1;33m\u001b[0m\u001b[1;33m\u001b[0m\u001b[0m\n\u001b[0m\u001b[0;32m      3\u001b[0m \u001b[1;31m# Yeah is imposible create arr 3x3 for 50 elements\u001b[0m\u001b[1;33m\u001b[0m\u001b[1;33m\u001b[0m\u001b[0m\n",
      "\u001b[1;31mValueError\u001b[0m: cannot reshape array of size 50 into shape (3,3)"
     ]
    }
   ],
   "source": [
    "arr = np.arange(start=0,stop=100,step=2)\n",
    "arr.reshape((3,3))\n",
    "# Yeah is imposible create arr 3x3 for 50 elements"
   ]
  },
  {
   "cell_type": "code",
   "execution_count": 15,
   "metadata": {},
   "outputs": [
    {
     "name": "stdout",
     "output_type": "stream",
     "text": [
      "All Values Allow of m and n: \n",
      " [[ 1 50]\n",
      " [ 2 25]\n",
      " [ 5 10]\n",
      " [10  5]\n",
      " [25  2]]\n"
     ]
    }
   ],
   "source": [
    "# What are other values of m and n for which mxn dimension is allowed for 50 elements?\n",
    "def valuesToDescompos(value):\n",
    "    values = []\n",
    "    for i in range(1,value):\n",
    "        if value%i==0:\n",
    "            values.append([i,value//i])\n",
    "    return values\n",
    "\n",
    "valuesAllowDescomd = np.array(valuesToDescompos(50))\n",
    "\n",
    "print(\"All Values Allow of m and n: \\n\",valuesAllowDescomd)"
   ]
  },
  {
   "cell_type": "code",
   "execution_count": 105,
   "metadata": {},
   "outputs": [
    {
     "name": "stdout",
     "output_type": "stream",
     "text": [
      "[[ 0  2  4  6  8 10 12 14 16 18 20 22 24 26 28 30 32 34 36 38 40 42 44 46\n",
      "  48 50 52 54 56 58 60 62 64 66 68 70 72 74 76 78 80 82 84 86 88 90 92 94\n",
      "  96 98]]\n",
      "Sahpe ->  (1, 50)\n",
      "\n",
      "[[ 0  2  4  6  8 10 12 14 16 18 20 22 24 26 28 30 32 34 36 38 40 42 44 46\n",
      "  48]\n",
      " [50 52 54 56 58 60 62 64 66 68 70 72 74 76 78 80 82 84 86 88 90 92 94 96\n",
      "  98]]\n",
      "Sahpe ->  (2, 25)\n",
      "\n",
      "[[ 0  2  4  6  8 10 12 14 16 18]\n",
      " [20 22 24 26 28 30 32 34 36 38]\n",
      " [40 42 44 46 48 50 52 54 56 58]\n",
      " [60 62 64 66 68 70 72 74 76 78]\n",
      " [80 82 84 86 88 90 92 94 96 98]]\n",
      "Sahpe ->  (5, 10)\n",
      "\n",
      "[[ 0  2  4  6  8]\n",
      " [10 12 14 16 18]\n",
      " [20 22 24 26 28]\n",
      " [30 32 34 36 38]\n",
      " [40 42 44 46 48]\n",
      " [50 52 54 56 58]\n",
      " [60 62 64 66 68]\n",
      " [70 72 74 76 78]\n",
      " [80 82 84 86 88]\n",
      " [90 92 94 96 98]]\n",
      "Sahpe ->  (10, 5)\n",
      "\n",
      "[[ 0  2]\n",
      " [ 4  6]\n",
      " [ 8 10]\n",
      " [12 14]\n",
      " [16 18]\n",
      " [20 22]\n",
      " [24 26]\n",
      " [28 30]\n",
      " [32 34]\n",
      " [36 38]\n",
      " [40 42]\n",
      " [44 46]\n",
      " [48 50]\n",
      " [52 54]\n",
      " [56 58]\n",
      " [60 62]\n",
      " [64 66]\n",
      " [68 70]\n",
      " [72 74]\n",
      " [76 78]\n",
      " [80 82]\n",
      " [84 86]\n",
      " [88 90]\n",
      " [92 94]\n",
      " [96 98]]\n",
      "Sahpe ->  (25, 2)\n",
      "\n"
     ]
    }
   ],
   "source": [
    "# Will Check my response\n",
    "for valuesAllow in valuesAllowDescomd:\n",
    "    newArr = arr.reshape(tuple(valuesAllow))\n",
    "    print(newArr)\n",
    "    print(\"Sahpe -> \",newArr.shape,end=\"\\n\\n\")"
   ]
  }
 ],
 "metadata": {
  "colab": {
   "name": "NumPy Bootcamp Graded Hands-on Exercise.ipynb",
   "provenance": []
  },
  "kernelspec": {
   "display_name": "Python 3 (ipykernel)",
   "language": "python",
   "name": "python3"
  },
  "language_info": {
   "codemirror_mode": {
    "name": "ipython",
    "version": 3
   },
   "file_extension": ".py",
   "mimetype": "text/x-python",
   "name": "python",
   "nbconvert_exporter": "python",
   "pygments_lexer": "ipython3",
   "version": "3.9.7"
  }
 },
 "nbformat": 4,
 "nbformat_minor": 1
}
