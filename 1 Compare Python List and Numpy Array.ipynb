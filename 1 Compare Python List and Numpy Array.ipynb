{
 "cells": [
  {
   "cell_type": "code",
   "execution_count": 1,
   "metadata": {},
   "outputs": [],
   "source": [
    "list_x = list(range(100000))\n",
    "list_y = list(range(100000))"
   ]
  },
  {
   "cell_type": "code",
   "execution_count": 2,
   "metadata": {},
   "outputs": [],
   "source": [
    "import numpy as np"
   ]
  },
  {
   "cell_type": "code",
   "execution_count": 5,
   "metadata": {},
   "outputs": [],
   "source": [
    "arr_x = np.array(list_x)\n",
    "arr_y = np.array(list_y)"
   ]
  },
  {
   "cell_type": "code",
   "execution_count": 4,
   "metadata": {},
   "outputs": [],
   "source": [
    "# sum between list_x and list_x \n",
    "def list_sum():\n",
    "    z = []\n",
    "    for i in range(len(list_x)):\n",
    "        z.append(list_x[i]+list_y[1])\n",
    "    "
   ]
  },
  {
   "cell_type": "code",
   "execution_count": 6,
   "metadata": {},
   "outputs": [],
   "source": [
    "def numpy_arr_sum():\n",
    "    z = arr_x+arr_y"
   ]
  },
  {
   "cell_type": "code",
   "execution_count": 9,
   "metadata": {},
   "outputs": [
    {
     "name": "stdout",
     "output_type": "stream",
     "text": [
      "Pure python version:  15.205524700000069\n",
      "Numpy version:  0.05336370000009083\n"
     ]
    }
   ],
   "source": [
    "from timeit import Timer\n",
    "# https://www.guru99.com/timeit-python-examples.html\n",
    "timer_obj1= Timer(\"list_sum()\",\"from __main__ import list_sum\")\n",
    "timer_obj2= Timer(\"numpy_arr_sum()\",\"from __main__ import numpy_arr_sum\") \n",
    "\n",
    "print(\"Pure python version: \",timer_obj1.timeit(1000))\n",
    "print(\"Numpy version: \",timer_obj2.timeit(1000))"
   ]
  },
  {
   "cell_type": "code",
   "execution_count": null,
   "metadata": {},
   "outputs": [],
   "source": []
  }
 ],
 "metadata": {
  "kernelspec": {
   "display_name": "Python 3",
   "language": "python",
   "name": "python3"
  },
  "language_info": {
   "codemirror_mode": {
    "name": "ipython",
    "version": 3
   },
   "file_extension": ".py",
   "mimetype": "text/x-python",
   "name": "python",
   "nbconvert_exporter": "python",
   "pygments_lexer": "ipython3",
   "version": "3.8.5"
  }
 },
 "nbformat": 4,
 "nbformat_minor": 4
}
